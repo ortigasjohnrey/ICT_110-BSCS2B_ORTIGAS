{
  "nbformat": 4,
  "nbformat_minor": 0,
  "metadata": {
    "colab": {
      "provenance": []
    },
    "kernelspec": {
      "name": "python3",
      "display_name": "Python 3"
    },
    "language_info": {
      "name": "python"
    }
  },
  "cells": [
    {
      "cell_type": "markdown",
      "source": [
        "# CHAPTER 2 - Variables, Expressions, and Statements"
      ],
      "metadata": {
        "id": "Quu2GKBe6Hmh"
      }
    },
    {
      "cell_type": "markdown",
      "source": [
        "#### Exercise 1"
      ],
      "metadata": {
        "id": "iEoHGNBB6OCG"
      }
    },
    {
      "cell_type": "markdown",
      "source": [
        "Write a program that uses input to prompt a user for their name and then welcomes them.\n",
        "```\n",
        "Enter your name: Chuck\n",
        "Hello Chuck\n",
        "```\n",
        "\n",
        "[PEW] E2.2"
      ],
      "metadata": {
        "id": "-YQLA1uG7vJy"
      }
    },
    {
      "cell_type": "code",
      "source": [
        "name = str(input(\"Enter your name: \"))\n",
        "print(\"Welcome \" + name)"
      ],
      "metadata": {
        "colab": {
          "base_uri": "https://localhost:8080/"
        },
        "id": "__zOi8hh9G6O",
        "outputId": "cb9ccd54-78a4-400f-afe6-2633ede8aae5"
      },
      "execution_count": null,
      "outputs": [
        {
          "output_type": "stream",
          "name": "stdout",
          "text": [
            "Enter your name: john\n",
            "Welcome john\n"
          ]
        }
      ]
    },
    {
      "cell_type": "markdown",
      "source": [
        "#### Exercise 2"
      ],
      "metadata": {
        "id": "hTxlnfFo9hSR"
      }
    },
    {
      "cell_type": "markdown",
      "source": [
        "Write a program to prompt the user for hours and rate per hour to compute gross pay.\n",
        "```\n",
        "Enter Hours: 35\n",
        "Enter Rate: 2.75\n",
        "Pay: 96.25\n",
        "```\n",
        "\n",
        "[PEW] E2.3"
      ],
      "metadata": {
        "id": "cl6VFhr09kl1"
      }
    },
    {
      "cell_type": "code",
      "source": [
        "hours = int(input(\"Enter Hours: \"))\n",
        "rate = float(input(\"Enter Rate: \"))\n",
        "print(\"Pay: \" + str((hours) * rate))"
      ],
      "metadata": {
        "colab": {
          "base_uri": "https://localhost:8080/"
        },
        "id": "bsqbuxAk9pBd",
        "outputId": "166de755-718a-439a-bc59-9ddaebd1947f"
      },
      "execution_count": null,
      "outputs": [
        {
          "output_type": "stream",
          "name": "stdout",
          "text": [
            "Enter Hours: 35\n",
            "Enter Rate: 2.75\n",
            "Pay: 96.25\n"
          ]
        }
      ]
    },
    {
      "cell_type": "markdown",
      "source": [
        "#### Exercise 3"
      ],
      "metadata": {
        "id": "E1IFOJL3-v_u"
      }
    },
    {
      "cell_type": "markdown",
      "source": [
        "Assume that we execute the following assignment statements:\n",
        "```python\n",
        "width = 17\n",
        "height = 12.0\n",
        "```\n",
        "For each of the following expressions, write the value of the expression and the type (of the value of the expression).\n",
        "```python\n",
        "width//2\n",
        "width/2.0\n",
        "height/3\n",
        "1 + 2 * 5\n",
        "```\n",
        "\n",
        "[PEW] E2.4"
      ],
      "metadata": {
        "id": "bUGUA0zm-zUm"
      }
    },
    {
      "cell_type": "code",
      "source": [
        "width = 17\n",
        "height = 12.0\n",
        "\n",
        "type1 = width//2  #8 <class 'int'>\n",
        "type2 = width/2.0 #8.5 <class 'float'>\n",
        "type3 = height/3  #4.0 <class 'float'>\n",
        "type4 = 1 + 2 * 5 #11 <class 'int'>\n",
        "\n",
        "print(f\"# {type1} {type(type1)}\")\n",
        "print(f\"# {type2} {type(type1)}\")\n",
        "print(f\"# {type3} {type(type1)}\")\n",
        "print(f\"# {type4} {type(type1)}\")"
      ],
      "metadata": {
        "colab": {
          "base_uri": "https://localhost:8080/"
        },
        "id": "42aS97s6-2H8",
        "outputId": "b30fc32e-7c96-461a-a4f3-e6254956e0aa"
      },
      "execution_count": null,
      "outputs": [
        {
          "output_type": "stream",
          "name": "stdout",
          "text": [
            "# 8 <class 'int'>\n",
            "# 8.5 <class 'int'>\n",
            "# 4.0 <class 'int'>\n",
            "# 11 <class 'int'>\n"
          ]
        }
      ]
    },
    {
      "cell_type": "markdown",
      "source": [
        "#### Exercise 4\n",
        "\n",
        "Write a program that uses input to prompt a user for a number and then outputs the square of the number\n",
        "```\n",
        "Enter a number: 3\n",
        "The square of 3 is 9\n",
        "```"
      ],
      "metadata": {
        "id": "cRLmgM3VA8oB"
      }
    },
    {
      "cell_type": "code",
      "source": [
        "number = int(input(\"Enter a number: \"))\n",
        "print(\"The square of \", number,\" is \",number**2)"
      ],
      "metadata": {
        "colab": {
          "base_uri": "https://localhost:8080/"
        },
        "id": "LYMsvsITBAF2",
        "outputId": "287f1ec7-cd71-40b5-9e6d-d2deb243284e"
      },
      "execution_count": null,
      "outputs": [
        {
          "output_type": "stream",
          "name": "stdout",
          "text": [
            "Enter a number: 3\n",
            "The square of  3  is  9\n"
          ]
        }
      ]
    },
    {
      "cell_type": "markdown",
      "source": [
        "## CHALLENGE"
      ],
      "metadata": {
        "id": "xjKR-RijHCM9"
      }
    },
    {
      "cell_type": "markdown",
      "source": [
        "Write a program which prompts the user for a Celsius temperature, convert the temperature to Fahrenheit, and print out the converted temperature.\n",
        "\n",
        "[PEW] E2.5"
      ],
      "metadata": {
        "id": "ISqTfTaOHGYS"
      }
    },
    {
      "cell_type": "code",
      "source": [
        "celsius = int(input(\"Enter temperature in celsius: \"))\n",
        "fahrenheit = ((celsius * 9) / 5) + 32\n",
        "print(\"Celsius to Fahrenheit:\", fahrenheit)"
      ],
      "metadata": {
        "colab": {
          "base_uri": "https://localhost:8080/"
        },
        "id": "2Qk7P93fHJG2",
        "outputId": "7ef8c102-ce35-42d6-b6ac-0f4a7526b04b"
      },
      "execution_count": null,
      "outputs": [
        {
          "output_type": "stream",
          "name": "stdout",
          "text": [
            "Enter temperature in celsius: 56\n",
            "Celsius to Fahrenheit: 132.8\n"
          ]
        }
      ]
    }
  ]
}