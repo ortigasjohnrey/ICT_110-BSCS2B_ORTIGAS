{
  "nbformat": 4,
  "nbformat_minor": 0,
  "metadata": {
    "colab": {
      "provenance": []
    },
    "kernelspec": {
      "name": "python3",
      "display_name": "Python 3"
    },
    "language_info": {
      "name": "python"
    }
  },
  "cells": [
    {
      "cell_type": "markdown",
      "source": [
        "# CHAPTER 5 - Functions"
      ],
      "metadata": {
        "id": "lcggf8ihiIMy"
      }
    },
    {
      "cell_type": "markdown",
      "source": [
        "##EXERCISES"
      ],
      "metadata": {
        "id": "kwO2uPaVWa9M"
      }
    },
    {
      "cell_type": "markdown",
      "source": [
        "Investigate on the difference between `is` and `==` given the following variables.\n",
        "```python\n",
        "a = 2\n",
        "b = 2.0\n",
        "c = a\n"
      ],
      "metadata": {
        "id": "IkYMs5qAWjUW"
      }
    },
    {
      "cell_type": "code",
      "source": [
        "a = 2\n",
        "b = 2.0\n",
        "c = a\n",
        "\n",
        "# is: This operator determines whether two variables point to the same memory object.\n",
        "# ==: This operator verifies that the values are equal.\n",
        "\n",
        "\n",
        "print(a is c)  # True, because they refer to the same object in memory.\n",
        "print(a == c)  # True, because their values are equal.\n",
        "print(a is b)  # False, because they are different objects in memory.\n",
        "print(a == b)  # True, because their values are equal.\n",
        "# In summary:\n",
        "\n",
        "# is compares whether two variables refer to the same object in memory.\n",
        "# == compares whether the values of two variables are equal."
      ],
      "metadata": {
        "colab": {
          "base_uri": "https://localhost:8080/"
        },
        "id": "Ft5htmcZWkMu",
        "outputId": "cb147814-d3ac-431e-a8e4-b3145bbff489"
      },
      "execution_count": null,
      "outputs": [
        {
          "output_type": "stream",
          "name": "stdout",
          "text": [
            "True\n",
            "True\n",
            "False\n",
            "True\n"
          ]
        }
      ]
    },
    {
      "cell_type": "markdown",
      "source": [
        "Write a program which repeatedly reads numbers until the user enters \"done\". Once \"done\" is entered, print out the total, count, and average of the numbers. If the user enters anything other than a number, detect their mistake using try and except and print an error message and skip to the next number.\n",
        "\n",
        "    Enter a number: 4\n",
        "    Enter a number: 5\n",
        "    Enter a number: bad data\n",
        "    Invalid input\n",
        "    Enter a number: 7\n",
        "    Enter a number: done\n",
        "    16 3 5.333333333333333\n",
        "    \n",
        "[PEW] E5.1"
      ],
      "metadata": {
        "id": "KhjLOZzxb-TN"
      }
    },
    {
      "cell_type": "code",
      "source": [
        "total = 0\n",
        "count = 0\n",
        "\n",
        "while True:\n",
        "    try:\n",
        "        User = input(\"Enter a number: \")\n",
        "        if User.lower() == \"done\":\n",
        "            break\n",
        "        number = float(User)\n",
        "        total += number\n",
        "        count += 1\n",
        "    except ValueError:\n",
        "        print(\"Invalid input\")\n",
        "\n",
        "if count > 0:\n",
        "    average = total / count\n",
        "    print(int(total), count, average)\n",
        "else:\n",
        "    print(\"Invalid Number\")\n"
      ],
      "metadata": {
        "colab": {
          "base_uri": "https://localhost:8080/"
        },
        "id": "ctWJWGkIb_DT",
        "outputId": "e0d18fff-c247-4812-9623-3e96a4bdb804"
      },
      "execution_count": null,
      "outputs": [
        {
          "output_type": "stream",
          "name": "stdout",
          "text": [
            "Enter a number: 5\n",
            "Enter a number: 6\n",
            "Enter a number: done\n",
            "11 2 5.5\n"
          ]
        }
      ]
    },
    {
      "cell_type": "markdown",
      "source": [
        "###Challenge 2\n",
        "Write another program that prompts for a list of numbers as above and at the end prints out both the maximum and minimum of the numbers instead of the average.\n",
        "\n",
        "[PEW] E5.2"
      ],
      "metadata": {
        "id": "t1R2dezltIJJ"
      }
    },
    {
      "cell_type": "code",
      "source": [
        "total = 0\n",
        "count = 0\n",
        "max = 0\n",
        "min = 0\n",
        "\n",
        "while True:\n",
        "    try:\n",
        "        User = input(\"Enter a number: \")\n",
        "        if User.lower() == \"done\":\n",
        "            break\n",
        "        number = float(User)\n",
        "        if(number >= max):\n",
        "          max = number\n",
        "        if(count == 0):\n",
        "          min = number\n",
        "        if(number < max):\n",
        "          if(number <= min ):\n",
        "            min = number\n",
        "        count += 1\n",
        "    except ValueError:\n",
        "        print(\"Invalid input\")\n",
        "\n",
        "print(f\"Maximum: {int(max)}, Minimum: {int(min)}\")\n"
      ],
      "metadata": {
        "colab": {
          "base_uri": "https://localhost:8080/"
        },
        "id": "jbJ3Sg6AtH45",
        "outputId": "2e9bbe08-cc38-424b-9fec-dcbaf6dd959e"
      },
      "execution_count": null,
      "outputs": [
        {
          "output_type": "stream",
          "name": "stdout",
          "text": [
            "Enter a number: 11\n",
            "Enter a number: 45\n",
            "Enter a number: bad data\n",
            "Invalid input\n",
            "Enter a number: 12\n",
            "Enter a number: done\n",
            "Maximum: 45, Minimum: 11\n"
          ]
        }
      ]
    }
  ]
}